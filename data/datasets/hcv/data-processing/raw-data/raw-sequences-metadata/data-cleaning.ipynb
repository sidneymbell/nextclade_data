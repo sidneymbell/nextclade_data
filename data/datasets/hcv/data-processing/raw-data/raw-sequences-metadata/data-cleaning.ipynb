{
 "cells": [
  {
   "cell_type": "code",
   "execution_count": null,
   "id": "2af7d53d",
   "metadata": {},
   "outputs": [],
   "source": [
    "## NOTES -- change 'collection_date' to 'date'\n",
    "## "
   ]
  },
  {
   "cell_type": "code",
   "execution_count": 20,
   "id": "351a7f0f",
   "metadata": {},
   "outputs": [],
   "source": [
    "import pandas as pd\n",
    "from Bio import SeqIO\n",
    "from BCBio import GFF\n",
    "from collections import defaultdict\n",
    "import re\n",
    "import numpy as np"
   ]
  },
  {
   "cell_type": "markdown",
   "id": "1e017d0c",
   "metadata": {},
   "source": [
    "### Load raw data"
   ]
  },
  {
   "cell_type": "code",
   "execution_count": 2,
   "id": "90d5d3a7",
   "metadata": {},
   "outputs": [],
   "source": [
    "ictvSeqs = [i for i in SeqIO.parse(open('../raw/hcv-genotypes-ictv.fasta', 'r'), 'fasta')]\n",
    "ncbiSeqs = [i for i in SeqIO.parse(open('../raw/hcv-context-ncbi.fasta', 'r'), 'fasta')]\n",
    "\n",
    "\n",
    "ictvMetaDf = pd.read_csv('../raw/hcv-ictv-ref-metadata.csv')\n",
    "ictvMetaDf['source'] = 'ictv'\n",
    "ncbiMetaDf = pd.read_csv('../raw/hcv-context-ncbi-metadata.csv')\n",
    "ncbiMetaDf['source'] = 'ncbi'\n",
    "\n",
    "metaDf = pd.concat([ictvMetaDf, ncbiMetaDf.loc[~ncbiMetaDf['Accession'].isin(ictvMetaDf['Accession'])]])\n",
    "\n",
    "exclude = []\n",
    "include = []"
   ]
  },
  {
   "cell_type": "markdown",
   "id": "4ee806ec",
   "metadata": {},
   "source": [
    "### Helper format functions"
   ]
  },
  {
   "cell_type": "code",
   "execution_count": 3,
   "id": "04233430",
   "metadata": {
    "scrolled": true
   },
   "outputs": [],
   "source": [
    "def getGeoData(metaRow):\n",
    "    if type(row['Geo_Location']) == str and len(row['Geo_Location'].split(':')) > 1:\n",
    "        country, division = row['Geo_Location'].split(':')\n",
    "    elif row['USA'] and type(row['USA']) == str:\n",
    "        country, division = row['Country'], row['USA']\n",
    "    else:\n",
    "        country, division = row['Country'], ''\n",
    "        \n",
    "    if type(division) == str and len(division.split(',')) > 1:\n",
    "        location, division = division.split(', ')\n",
    "    else:\n",
    "        location = ''\n",
    "        \n",
    "    return [country, division, location]"
   ]
  },
  {
   "cell_type": "code",
   "execution_count": 4,
   "id": "8ee30365",
   "metadata": {
    "scrolled": false
   },
   "outputs": [],
   "source": [
    "def makeNewName(metaRow, exclude): \n",
    "    redFlags = ['Mutant', 'Recombinant', 'treatment',  'Week', 'UNVERIFIED', 'Baseline', 'Post_Treatment', 'D0', 'failure', 'nonfunctional']\n",
    "    regexReplace = ['[,.:;()\\'\"]', '-\\b', '\\B-', '\\b[s]\\b', '\\bF\\b']\n",
    "    removeStrings = ['-like', 'from', 'USA', 'gp1', 'gp2','sequence', 'Hepacivirus C', 'Hepatitis C', 'virus', 'isolate', 'polyprotein', \n",
    "                     'gene', 'protein', 'POLY', 'and', 'strain', 'cds', 'partial', 'genomic', ' F ', ' s ', 'subtype', \n",
    "                     'genotype','RNA','complete', 'genome', '(POL)', 'Patient', 'precursor', 'for', ':']\n",
    "\n",
    "    name = row['GenBank_Title']\n",
    "\n",
    "    for rf in redFlags:\n",
    "        if rf in name: \n",
    "            exclude.append(row['Accession'])\n",
    "    for string in removeStrings: \n",
    "        name = name.replace(string, '').strip()\n",
    "    for pattern in regexReplace:\n",
    "        name = re.sub(pattern, '', name).strip()\n",
    "    name = re.sub('\\s+', '_', name)\n",
    "\n",
    "    if '/' not in name:\n",
    "        name = 'HCV/%s/%s'%(name, row['Accession'])\n",
    "        if row['country'] and type(row['country']) == str:\n",
    "                name = name+'/'+row['country'].replace(' ', '-').replace(\"'\", \"\")\n",
    "        else:\n",
    "            name = name + '/unknown'\n",
    "        if row['Collection_Date'] and type(row['Collection_Date']) == str:\n",
    "            name = name+'/'+row['Collection_Date'].split('-')[0]\n",
    "\n",
    "    return name.upper()"
   ]
  },
  {
   "cell_type": "code",
   "execution_count": 5,
   "id": "197f65bb",
   "metadata": {},
   "outputs": [],
   "source": [
    "def fillDates(datestring):\n",
    "    if len(datestring) == 4:\n",
    "        return datestring+'-XX-XX'\n",
    "    elif len(datestring) == 7:\n",
    "        return datestring+'-XX'\n",
    "    elif len(datestring) == 10:\n",
    "        return datestring\n",
    "    else:\n",
    "        print(datestring)"
   ]
  },
  {
   "cell_type": "markdown",
   "id": "b62353ec",
   "metadata": {},
   "source": [
    "## Apply cleanup functions to each row \n",
    "Yes, I know I can and should do this with map / apply / whatever, but I dont' remember how to do that right now and this will work"
   ]
  },
  {
   "cell_type": "code",
   "execution_count": 6,
   "id": "4b52e76b",
   "metadata": {},
   "outputs": [],
   "source": [
    "for (idx, row) in metaDf.iterrows():\n",
    "    [country, division, location] = getGeoData(row)\n",
    "    metaDf.loc[idx, 'country'] = country\n",
    "    metaDf.loc[idx, 'division'] = division\n",
    "    metaDf.loc[idx, 'location'] = location\n",
    "\n",
    "metaDf.drop(['Geo_Location', 'Country', 'USA'], axis=1, inplace=True)"
   ]
  },
  {
   "cell_type": "code",
   "execution_count": 7,
   "id": "fd7d2b6f",
   "metadata": {},
   "outputs": [],
   "source": [
    "for (idx, row) in metaDf.iterrows():\n",
    "    metaDf.loc[idx, 'strain'] = makeNewName(row, exclude)"
   ]
  },
  {
   "cell_type": "code",
   "execution_count": 8,
   "id": "9917a6bc",
   "metadata": {},
   "outputs": [],
   "source": [
    "metaDf['collection_date'] = metaDf['Collection_Date'].fillna('XXXX-XX-XX')\n",
    "metaDf['collection_date'] = metaDf['collection_date'].map(fillDates)"
   ]
  },
  {
   "cell_type": "code",
   "execution_count": 9,
   "id": "21f140e8",
   "metadata": {},
   "outputs": [],
   "source": [
    "subtypeRegex = '(subtype|genotype)\\s[1-8]{1}[a-zA-Z]{1,2}'\n",
    "\n",
    "for (idx, row) in metaDf.iterrows():\n",
    "    subtype = re.search(subtypeRegex, row['GenBank_Title'])\n",
    "    if subtype:\n",
    "        metaDf.loc[idx, 'subtype'] = subtype.group().split()[1]"
   ]
  },
  {
   "cell_type": "code",
   "execution_count": 10,
   "id": "0e769652",
   "metadata": {},
   "outputs": [],
   "source": [
    "for seq in ictvSeqs:\n",
    "    lineage, accession = seq.id.split('_')\n",
    "    metaDf.loc[metaDf['Accession'] == accession, 'subtype'] = lineage\n",
    "    name = metaDf.loc[metaDf['Accession']==accession, 'strain'].values[0]\n",
    "    seq.id = name\n",
    "    seq.description = name"
   ]
  },
  {
   "cell_type": "code",
   "execution_count": 11,
   "id": "e6ccaf83",
   "metadata": {},
   "outputs": [],
   "source": [
    "metaDf.fillna('?', inplace=True)\n",
    "metaDf.replace('', '?', inplace=True)\n",
    "\n",
    "metaDf.drop(['Release_Date', 'Collection_Date', 'GenBank_Title', 'Isolate', 'Genotype'], axis=1, inplace=True)\n",
    "metaDf.drop(metaDf.loc[metaDf['Accession'].isin(exclude)].index, axis=0, inplace=True)"
   ]
  },
  {
   "cell_type": "code",
   "execution_count": 12,
   "id": "7a359169",
   "metadata": {},
   "outputs": [],
   "source": [
    "metaDf.to_csv('../hcv-meta.tsv', sep='\\t', index=False)"
   ]
  },
  {
   "cell_type": "markdown",
   "id": "4cf05729",
   "metadata": {},
   "source": [
    "## Update sequence headers to match, remove duplicates"
   ]
  },
  {
   "cell_type": "code",
   "execution_count": 13,
   "id": "e8202f0b",
   "metadata": {},
   "outputs": [],
   "source": [
    "def strainFromAccession(accession, metaDf=metaDf):\n",
    "    return metaDf.loc[metaDf['Accession'] == accession, 'strain'].values[0]\n",
    "    \n",
    "def accessionFromStrain(strain, metaDf=metaDf):\n",
    "    try:\n",
    "        return metaDf.loc[metaDf['strain'] == strain, 'Accession'].values[0]\n",
    "    except:\n",
    "        print(strain)\n",
    "        return None\n"
   ]
  },
  {
   "cell_type": "code",
   "execution_count": 14,
   "id": "f95b1cfb",
   "metadata": {},
   "outputs": [
    {
     "name": "stdout",
     "output_type": "stream",
     "text": [
      "HCV/UNVERIFIED_ASMBLY_S553_20120314_FL_C05/OK552741/USA/2012\n",
      "HCV/UNVERIFIED_S553_20131105_FL_A01/OK552863/USA/2013\n",
      "HCV/UNVERIFIED_ASMBLY_S553_20090408_FL_C26/OK552705/USA/2009\n"
     ]
    }
   ],
   "source": [
    "ictvSeqsClean = []\n",
    "ictvSeqNames = [s.id for s in ictvSeqs]\n",
    "\n",
    "for s in ictvSeqs:\n",
    "    accession = accessionFromStrain(s.id)\n",
    "    if accession and accession not in exclude:\n",
    "        ictvSeqsClean.append(s)\n",
    "        ictvSeqNames.append(s.id)\n",
    "\n",
    "ncbiSeqsClean = []\n",
    "\n",
    "for s in ncbiSeqs:\n",
    "    accession = s.id.split('.')[0]\n",
    "    if accession in exclude:\n",
    "        continue\n",
    "    name = strainFromAccession(accession, metaDf)\n",
    "\n",
    "    if name not in ictvSeqNames:\n",
    "        s.id = name\n",
    "        s.description = name\n",
    "        ncbiSeqsClean.append(s)"
   ]
  },
  {
   "cell_type": "code",
   "execution_count": 15,
   "id": "4ac17d57",
   "metadata": {},
   "outputs": [
    {
     "data": {
      "text/plain": [
       "238"
      ]
     },
     "execution_count": 15,
     "metadata": {},
     "output_type": "execute_result"
    }
   ],
   "source": [
    "SeqIO.write(ncbiSeqsClean, open('../hcv-ncbi-sequences.fasta', 'w'), 'fasta')\n",
    "SeqIO.write(ictvSeqs, open('../hcv-ictv-sequences-aligned.fasta', 'w'), 'fasta')"
   ]
  },
  {
   "cell_type": "code",
   "execution_count": 16,
   "id": "e5bb7146",
   "metadata": {},
   "outputs": [],
   "source": [
    "with open('../include.txt', 'w') as f:\n",
    "    for name in ictvSeqNames:\n",
    "        f.write(name+'\\n')\n",
    "    f.close()"
   ]
  },
  {
   "cell_type": "markdown",
   "id": "081e26e0",
   "metadata": {},
   "source": [
    "## Deal with reference genome"
   ]
  },
  {
   "cell_type": "code",
   "execution_count": 21,
   "id": "73e36034",
   "metadata": {},
   "outputs": [],
   "source": [
    "in_file = \"../hcv-reference-NC_009824.gb\"\n",
    "out_file = \"../hcv-reference-NC-009824.gff\"\n",
    "in_handle = open(in_file)\n",
    "out_handle = open(out_file, \"w\")\n",
    "\n",
    "GFF.write(SeqIO.parse(in_handle, \"genbank\"), out_handle)\n",
    "\n",
    "in_handle.close()\n",
    "out_handle.close()"
   ]
  },
  {
   "cell_type": "code",
   "execution_count": null,
   "id": "cbe7958c",
   "metadata": {},
   "outputs": [],
   "source": []
  }
 ],
 "metadata": {
  "kernelspec": {
   "display_name": "Python 3 (ipykernel)",
   "language": "python",
   "name": "python3"
  },
  "language_info": {
   "codemirror_mode": {
    "name": "ipython",
    "version": 3
   },
   "file_extension": ".py",
   "mimetype": "text/x-python",
   "name": "python",
   "nbconvert_exporter": "python",
   "pygments_lexer": "ipython3",
   "version": "3.9.12"
  }
 },
 "nbformat": 4,
 "nbformat_minor": 5
}
