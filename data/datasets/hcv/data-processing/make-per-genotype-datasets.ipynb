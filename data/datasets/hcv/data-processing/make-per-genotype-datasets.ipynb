{
 "cells": [
  {
   "cell_type": "code",
   "execution_count": 1,
   "id": "769d8fc0",
   "metadata": {},
   "outputs": [],
   "source": [
    "import pandas as pd\n",
    "from Bio import SeqIO, SeqFeature\n",
    "import os\n",
    "from collections import OrderedDict\n",
    "from pprint import pprint"
   ]
  },
  {
   "cell_type": "code",
   "execution_count": 2,
   "id": "9f29760d",
   "metadata": {},
   "outputs": [],
   "source": [
    "meta = pd.read_csv('./hcv-all/prepare-reference-tree/data/hcv-meta.tsv', sep='\\t', index_col='strain')\n",
    "nextstrain_clade_meta = pd.read_csv('./giant_tree_output_meta.tsv', sep='\\t', index_col='strain', dtype={'clade_membership': str})\n",
    "seqs = [s for s in SeqIO.parse(open('./hcv-all/prepare-reference-tree/data/hcv-sequences.fasta', 'r'), 'fasta')]"
   ]
  },
  {
   "cell_type": "code",
   "execution_count": 8,
   "id": "07f6aa07",
   "metadata": {},
   "outputs": [],
   "source": [
    "meta['clade_membership'] = nextstrain_clade_meta['clade_membership']"
   ]
  },
  {
   "cell_type": "code",
   "execution_count": 6,
   "id": "5ce40324",
   "metadata": {},
   "outputs": [],
   "source": [
    "for i in range(1, 9):\n",
    "    genotype = \"%d\"%i\n",
    "    \n",
    "    gt_meta = meta.loc[meta['clade_membership'] == genotype]\n",
    "    gt_seqs = [s for s in seqs if s.id in gt_meta.index.values]\n",
    "       \n",
    "    ictv_gt_meta = gt_meta.loc[gt_meta['source'] == 'ictv']\n",
    "    \n",
    "    paths = ['./hcv-%d'%i, './hcv-%d/prepare-reference-tree/'%i, './hcv-%d/prepare-reference-tree/data/'%i]\n",
    "\n",
    "    for path in paths: \n",
    "        try:\n",
    "            os.mkdir(path)\n",
    "        except:\n",
    "            continue\n",
    "\n",
    "    metasuffix = 'hcv-%d-meta.tsv'%i\n",
    "    seqsuffix = 'hcv-%d-sequences.fasta'%i\n",
    "\n",
    "        \n",
    "    gt_meta.to_csv(paths[-1]+metasuffix, sep='\\t')\n",
    "    SeqIO.write(gt_seqs, open(paths[-1]+seqsuffix, 'w'), 'fasta')\n",
    " \n",
    "    f = open(paths[-1] + 'include.tsv', 'w')\n",
    "    for strain in ictv_gt_meta.index.values:\n",
    "        f.write(strain + '\\n')\n",
    "    f.close()"
   ]
  },
  {
   "cell_type": "markdown",
   "id": "9294a5f4",
   "metadata": {},
   "source": [
    "# Format reference sequences in genbank and gff formats, relabeling mat_peptides as genes\n"
   ]
  },
  {
   "cell_type": "code",
   "execution_count": 2,
   "id": "39c1f9ea",
   "metadata": {},
   "outputs": [],
   "source": [
    "\n",
    "def makeNewFeatures(refseq): \n",
    "    \n",
    "    newFeatures = []\n",
    "    for f in refseq.features:\n",
    "        if f.type in [\"5'UTR\", \"3'UTR\"]:\n",
    "            newFeatures.append(f)\n",
    "        elif f.type == 'mat_peptide':\n",
    "\n",
    "            attrs = {}\n",
    "            attrs['location'] = f.location\n",
    "\n",
    "            product = f.qualifiers['product'][0]\n",
    "            if product == 'core protein':\n",
    "                attrs['id'] = 'C'\n",
    "            else:\n",
    "                attrs['id'] = product.split()[0]\n",
    "\n",
    "            attrs['qualifiers'] = OrderedDict()\n",
    "            attrs['qualifiers']['gene'] = [attrs['id']]\n",
    "\n",
    "            newFeatures.append(SeqFeature.SeqFeature(type='gene', **attrs))\n",
    "            newFeatures.append(SeqFeature.SeqFeature(type='CDS', **attrs))\n",
    "\n",
    "\n",
    "        elif 'product' in f.qualifiers.keys() and f.qualifiers['product'][0] == 'protein F':\n",
    "\n",
    "            attrs = {}\n",
    "            attrs['qualifiers'] = OrderedDict()\n",
    "\n",
    "            attrs['id'] = 'F-part1'\n",
    "            attrs['location'] = f.location.parts[0]\n",
    "            attrs['qualifiers']['gene'] = ['F-part1']\n",
    "            newFeatures.append(SeqFeature.SeqFeature(type='gene', **attrs))\n",
    "            newFeatures.append(SeqFeature.SeqFeature(type='CDS', **attrs))\n",
    "\n",
    "            attrs2 = {}\n",
    "            attrs2['qualifiers'] = OrderedDict()\n",
    "            attrs2['id'] = 'F-part2'\n",
    "            attrs2['location'] = f.location.parts[1]\n",
    "            attrs2['qualifiers']['gene'] = ['F-part2']\n",
    "            attrs2['qualifiers']['codon_start'] = [1]\n",
    "            newFeatures.append(SeqFeature.SeqFeature(type='gene', **attrs2))\n",
    "            newFeatures.append(SeqFeature.SeqFeature(type='CDS', **attrs2))\n",
    "\n",
    "    refseq.features = newFeatures\n",
    "    return refseq"
   ]
  },
  {
   "cell_type": "code",
   "execution_count": 3,
   "id": "5413101b",
   "metadata": {},
   "outputs": [],
   "source": [
    "def make_gff(refseq, path): \n",
    "    def feature_to_dict(seqfeature, refseq=refseq): \n",
    "        return {\n",
    "            'seqname': refseq.annotations['accessions'][0],\n",
    "            'source': 'feature',\n",
    "            'feature': 'gene',\n",
    "            'start': int(seqfeature.location.start),\n",
    "            'end': int(seqfeature.location.end),\n",
    "            'score': '.',\n",
    "            'strand': '+',\n",
    "            'frame': '1' if seqfeature.id == 'F-part2' else 0,\n",
    "            'attribute': 'gene='+seqfeature.id\n",
    "        }\n",
    "    \n",
    "    header_line0 = '## sequence-region\\t' + refseq.annotations['accessions'][0] + '\\t' + '0' + '\\t' + str(len(refseq)+1)\n",
    "    header_line1 = '## seqname\tsource\tfeature\tstart\tend\tscore\tstrand\tframe\tattribute'\n",
    "    gff_lines = [feature_to_dict(feature, refseq) for feature in refseq.features if feature.type == 'gene']\n",
    "    gff_df = pd.DataFrame(gff_lines, columns = ['seqname', 'source', 'feature', 'start', 'end', 'score', 'strand', 'frame', 'attribute'])\n",
    "    \n",
    "    with open(path, 'a') as f:\n",
    "        f.write(header_line0+'\\n')\n",
    "        f.write(header_line1+'\\n')\n",
    "        gff_df.to_csv(f, header=False, index=False, sep='\\t')"
   ]
  },
  {
   "cell_type": "code",
   "execution_count": 4,
   "id": "a9b87da1",
   "metadata": {},
   "outputs": [],
   "source": [
    "# reference_genomes = {'hcv-%d'%i : SeqIO.read(open('./more-reference-genomes/hcv-%d-reference.gb'%i, 'r'), 'genbank') for i in range(3, 8)}\n",
    "\n",
    "reference_genomes = {'hcv-2': SeqIO.read(open('../hcv-2/reference-files/hcv-2-reference.gb', 'r'), 'genbank')}\n",
    "\n",
    "for genotype, refseq in reference_genomes.items():\n",
    "    \n",
    "    paths = ['../%s/'%genotype, '../%s/reference-files/'%genotype]\n",
    "    \n",
    "    fasta_fname = '%s-reference.fasta'%genotype\n",
    "    gb_fname = '%s-reference.gb'%genotype\n",
    "    gff_fname = '%s-genemap.gff'%genotype\n",
    "\n",
    "    for path in paths: \n",
    "        try:\n",
    "            os.mkdir(path)\n",
    "        except:\n",
    "            continue\n",
    "    \n",
    "    new_ref_seq = makeNewFeatures(refseq)\n",
    "    new_ref_seq.id = new_ref_seq.annotations['accessions'][0]\n",
    "    new_ref_seq.description = new_ref_seq.annotations['accessions'][0]\n",
    "    reference_genomes[genotype] = new_ref_seq\n",
    "    SeqIO.write(new_ref_seq, open(paths[-1]+fasta_fname, 'w'), 'fasta')\n",
    "    SeqIO.write(new_ref_seq, open(paths[-1]+gb_fname, 'w'), 'genbank')\n",
    "    make_gff(new_ref_seq, paths[-1]+gff_fname)\n",
    "    "
   ]
  },
  {
   "cell_type": "code",
   "execution_count": null,
   "id": "209af0b2",
   "metadata": {},
   "outputs": [],
   "source": []
  },
  {
   "cell_type": "code",
   "execution_count": null,
   "id": "5ef02e69",
   "metadata": {},
   "outputs": [],
   "source": []
  }
 ],
 "metadata": {
  "kernelspec": {
   "display_name": "Python 3 (ipykernel)",
   "language": "python",
   "name": "python3"
  },
  "language_info": {
   "codemirror_mode": {
    "name": "ipython",
    "version": 3
   },
   "file_extension": ".py",
   "mimetype": "text/x-python",
   "name": "python",
   "nbconvert_exporter": "python",
   "pygments_lexer": "ipython3",
   "version": "3.10.7"
  }
 },
 "nbformat": 4,
 "nbformat_minor": 5
}
