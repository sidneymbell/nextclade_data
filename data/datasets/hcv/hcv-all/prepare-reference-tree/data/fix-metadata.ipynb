{
 "cells": [
  {
   "cell_type": "code",
   "execution_count": 1,
   "id": "88034559",
   "metadata": {},
   "outputs": [],
   "source": [
    "import pandas as pd"
   ]
  },
  {
   "cell_type": "code",
   "execution_count": 2,
   "id": "c00614ba",
   "metadata": {},
   "outputs": [],
   "source": [
    "df = pd.read_csv('./hcv-meta.tsv', sep='\\t')"
   ]
  },
  {
   "cell_type": "code",
   "execution_count": 3,
   "id": "89ad79fc",
   "metadata": {},
   "outputs": [
    {
     "data": {
      "text/html": [
       "<div>\n",
       "<style scoped>\n",
       "    .dataframe tbody tr th:only-of-type {\n",
       "        vertical-align: middle;\n",
       "    }\n",
       "\n",
       "    .dataframe tbody tr th {\n",
       "        vertical-align: top;\n",
       "    }\n",
       "\n",
       "    .dataframe thead th {\n",
       "        text-align: right;\n",
       "    }\n",
       "</style>\n",
       "<table border=\"1\" class=\"dataframe\">\n",
       "  <thead>\n",
       "    <tr style=\"text-align: right;\">\n",
       "      <th></th>\n",
       "      <th>strain</th>\n",
       "      <th>Accession</th>\n",
       "      <th>source</th>\n",
       "      <th>country</th>\n",
       "      <th>division</th>\n",
       "      <th>location</th>\n",
       "      <th>date</th>\n",
       "      <th>original_annotated_subtype</th>\n",
       "      <th>original_annotated_genotype</th>\n",
       "      <th>clade_membership</th>\n",
       "    </tr>\n",
       "  </thead>\n",
       "  <tbody>\n",
       "    <tr>\n",
       "      <th>0</th>\n",
       "      <td>HCV/P1/OP022902/UNITED-KINGDOM/2015</td>\n",
       "      <td>MZ171127</td>\n",
       "      <td>ictv</td>\n",
       "      <td>United Kingdom</td>\n",
       "      <td>?</td>\n",
       "      <td>?</td>\n",
       "      <td>2018-XX-XX</td>\n",
       "      <td>6xj</td>\n",
       "      <td>6</td>\n",
       "      <td>6.0</td>\n",
       "    </tr>\n",
       "    <tr>\n",
       "      <th>1</th>\n",
       "      <td>HCV/P2/OP022903/UNITED-KINGDOM/2018</td>\n",
       "      <td>MZ171134</td>\n",
       "      <td>ictv</td>\n",
       "      <td>United Kingdom</td>\n",
       "      <td>?</td>\n",
       "      <td>?</td>\n",
       "      <td>2018-XX-XX</td>\n",
       "      <td>6xj</td>\n",
       "      <td>6</td>\n",
       "      <td>6.0</td>\n",
       "    </tr>\n",
       "    <tr>\n",
       "      <th>2</th>\n",
       "      <td>HCV/P3/OP022904/UNITED-KINGDOM/2019</td>\n",
       "      <td>MZ504973</td>\n",
       "      <td>ictv</td>\n",
       "      <td>United Kingdom</td>\n",
       "      <td>?</td>\n",
       "      <td>?</td>\n",
       "      <td>2018-XX-XX</td>\n",
       "      <td>6xi</td>\n",
       "      <td>6</td>\n",
       "      <td>6.0</td>\n",
       "    </tr>\n",
       "    <tr>\n",
       "      <th>3</th>\n",
       "      <td>HCV/P4/OP022905/UNITED-KINGDOM/2019</td>\n",
       "      <td>MZ504976</td>\n",
       "      <td>ictv</td>\n",
       "      <td>United Kingdom</td>\n",
       "      <td>?</td>\n",
       "      <td>?</td>\n",
       "      <td>2019-XX-XX</td>\n",
       "      <td>6xi</td>\n",
       "      <td>6</td>\n",
       "      <td>6.0</td>\n",
       "    </tr>\n",
       "    <tr>\n",
       "      <th>4</th>\n",
       "      <td>HCV/P5/OP022906/UNITED-KINGDOM/2018</td>\n",
       "      <td>MW041294</td>\n",
       "      <td>ictv</td>\n",
       "      <td>United Kingdom</td>\n",
       "      <td>?</td>\n",
       "      <td>?</td>\n",
       "      <td>2004-XX-XX</td>\n",
       "      <td>2</td>\n",
       "      <td>2</td>\n",
       "      <td>2.0</td>\n",
       "    </tr>\n",
       "  </tbody>\n",
       "</table>\n",
       "</div>"
      ],
      "text/plain": [
       "                                strain Accession source         country  \\\n",
       "0  HCV/P1/OP022902/UNITED-KINGDOM/2015  MZ171127   ictv  United Kingdom   \n",
       "1  HCV/P2/OP022903/UNITED-KINGDOM/2018  MZ171134   ictv  United Kingdom   \n",
       "2  HCV/P3/OP022904/UNITED-KINGDOM/2019  MZ504973   ictv  United Kingdom   \n",
       "3  HCV/P4/OP022905/UNITED-KINGDOM/2019  MZ504976   ictv  United Kingdom   \n",
       "4  HCV/P5/OP022906/UNITED-KINGDOM/2018  MW041294   ictv  United Kingdom   \n",
       "\n",
       "  division location        date original_annotated_subtype  \\\n",
       "0        ?        ?  2018-XX-XX                        6xj   \n",
       "1        ?        ?  2018-XX-XX                        6xj   \n",
       "2        ?        ?  2018-XX-XX                        6xi   \n",
       "3        ?        ?  2019-XX-XX                        6xi   \n",
       "4        ?        ?  2004-XX-XX                          2   \n",
       "\n",
       "  original_annotated_genotype clade_membership  \n",
       "0                           6              6.0  \n",
       "1                           6              6.0  \n",
       "2                           6              6.0  \n",
       "3                           6              6.0  \n",
       "4                           2              2.0  "
      ]
     },
     "execution_count": 3,
     "metadata": {},
     "output_type": "execute_result"
    }
   ],
   "source": [
    "df.head()"
   ]
  },
  {
   "cell_type": "code",
   "execution_count": 4,
   "id": "fb11c1ac",
   "metadata": {},
   "outputs": [],
   "source": [
    "df.fillna('?', inplace=True)"
   ]
  },
  {
   "cell_type": "code",
   "execution_count": 9,
   "id": "02b8e412",
   "metadata": {},
   "outputs": [],
   "source": [
    "df['clade_membership'].replace({\"1.0\": \"1\", \"2.0\": \"2\", \"3.0\": \"3\", \n",
    "                                \"4.0\": \"4\", \"5.0\": \"5\", \"6.0\": \"6\", \"7.0\": \"7\", \"8.0\": \"8\"}, inplace=True)"
   ]
  },
  {
   "cell_type": "code",
   "execution_count": 10,
   "id": "be609372",
   "metadata": {},
   "outputs": [
    {
     "data": {
      "text/plain": [
       "1     1357\n",
       "?      835\n",
       "3      433\n",
       "2      172\n",
       "6,     114\n",
       "4       48\n",
       "5        8\n",
       "8        4\n",
       "7        4\n",
       "Name: clade_membership, dtype: int64"
      ]
     },
     "execution_count": 10,
     "metadata": {},
     "output_type": "execute_result"
    }
   ],
   "source": [
    "pd.value_counts(df['clade_membership'], dropna=False)"
   ]
  },
  {
   "cell_type": "code",
   "execution_count": 7,
   "id": "fe96aa67",
   "metadata": {},
   "outputs": [],
   "source": [
    "df.to_csv('./hcv-meta.tsv', sep='\\t', index=False)"
   ]
  },
  {
   "cell_type": "code",
   "execution_count": null,
   "id": "390bc16f",
   "metadata": {},
   "outputs": [],
   "source": []
  }
 ],
 "metadata": {
  "kernelspec": {
   "display_name": "Python 3 (ipykernel)",
   "language": "python",
   "name": "python3"
  },
  "language_info": {
   "codemirror_mode": {
    "name": "ipython",
    "version": 3
   },
   "file_extension": ".py",
   "mimetype": "text/x-python",
   "name": "python",
   "nbconvert_exporter": "python",
   "pygments_lexer": "ipython3",
   "version": "3.9.12"
  }
 },
 "nbformat": 4,
 "nbformat_minor": 5
}
